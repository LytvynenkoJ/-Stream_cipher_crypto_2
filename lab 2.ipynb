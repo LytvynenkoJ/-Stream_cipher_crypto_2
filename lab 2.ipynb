{
 "cells": [
  {
   "cell_type": "code",
   "execution_count": 4,
   "id": "1114206d",
   "metadata": {},
   "outputs": [],
   "source": [
    "from sage.crypto.boolean_function import BooleanFunction"
   ]
  },
  {
   "cell_type": "markdown",
   "id": "a66fb376",
   "metadata": {},
   "source": [
    "Створюємо кільце поліномів"
   ]
  },
  {
   "cell_type": "code",
   "execution_count": 5,
   "id": "55e36635",
   "metadata": {},
   "outputs": [
    {
     "name": "stdout",
     "output_type": "stream",
     "text": [
      "Defining x0, x1, x2, x3, x4, x5\n"
     ]
    }
   ],
   "source": [
    "B = BooleanPolynomialRing(6, 'x', order = 'degrevlex')\n",
    "B.inject_variables()"
   ]
  },
  {
   "cell_type": "markdown",
   "id": "633b478b",
   "metadata": {},
   "source": [
    "Зчитуємо дані з файлів та переводимо їх у належний вигляд"
   ]
  },
  {
   "cell_type": "code",
   "execution_count": 6,
   "id": "d822613d",
   "metadata": {},
   "outputs": [],
   "source": [
    "f = open(\"VG9.txt\", \"r\")\n",
    "gamma=list(map(int, list(f.readlines()[0])))\n",
    "f.close()"
   ]
  },
  {
   "cell_type": "code",
   "execution_count": 7,
   "id": "a0dbfbbd",
   "metadata": {},
   "outputs": [
    {
     "data": {
      "text/plain": [
       "'x_{0} x_{2} x_{4} + x_{1} x_{2} x_{4} + x_{1} x_{4} + x_{2} x_{3} x_{4} + x_{2} x_{4} x_{5} + x_{2} x_{4} + x_{2} + x_{3} x_{4'"
      ]
     },
     "execution_count": 7,
     "metadata": {},
     "output_type": "execute_result"
    }
   ],
   "source": [
    "f = open(\"VCF9.txt\", \"r\")\n",
    "combining_function = f.readlines()[0][:-1]\n",
    "f.close()\n",
    "combining_function"
   ]
  },
  {
   "cell_type": "code",
   "execution_count": 8,
   "id": "a8e3ecb2",
   "metadata": {},
   "outputs": [
    {
     "data": {
      "text/plain": [
       "'x0 * x2 * x4 + x1 * x2 * x4 + x1 * x4 + x2 * x3 * x4 + x2 * x4 * x5 + x2 * x4 + x2 + x3 * x4'"
      ]
     },
     "execution_count": 8,
     "metadata": {},
     "output_type": "execute_result"
    }
   ],
   "source": [
    "combining_function=combining_function.replace(\"_{\",\"\")\n",
    "combining_function=combining_function.replace(\"} x\",\" * x\")\n",
    "combining_function=combining_function.replace(\"} +\",\" +\")\n",
    "combining_function"
   ]
  },
  {
   "cell_type": "code",
   "execution_count": 9,
   "id": "d279cc59",
   "metadata": {},
   "outputs": [
    {
     "data": {
      "text/plain": [
       "x4*x2*x0 + x4*x2*x1 + x4*x3*x2 + x5*x4*x2 + x4*x1 + x4*x2 + x4*x3 + x2"
      ]
     },
     "execution_count": 9,
     "metadata": {},
     "output_type": "execute_result"
    }
   ],
   "source": [
    "combining_function = eval(combining_function)\n",
    "combining_function"
   ]
  },
  {
   "cell_type": "code",
   "execution_count": 10,
   "id": "adb84a8c",
   "metadata": {},
   "outputs": [
    {
     "data": {
      "text/plain": [
       "Boolean function with 6 variables"
      ]
     },
     "execution_count": 10,
     "metadata": {},
     "output_type": "execute_result"
    }
   ],
   "source": [
    "BooleanFunction(combining_function)"
   ]
  },
  {
   "cell_type": "markdown",
   "id": "cb866102",
   "metadata": {},
   "source": [
    "Використовуємо перетворення Уолша-Адамара та будуємо статистичні аналоги"
   ]
  },
  {
   "cell_type": "code",
   "execution_count": 11,
   "id": "fb8a434a",
   "metadata": {},
   "outputs": [
    {
     "name": "stdout",
     "output_type": "stream",
     "text": [
      "[0, 0, 0, 0, 32, 0, 0, 0, 0, 0, 16, 0, 0, 0, 16, 0, 0, 0, 0, 0, 32, 0, 0, 0, 0, 0, -16, 0, 0, 0, -16, 0, 0, 16, 0, 0, 0, -16, 0, 0, 0, 0, 0, 0, 0, 0, 0, 0, 0, -16, 0, 0, 0, 16, 0, 0, 0, 0, 0, 0, 0, 0, 0, 0]\n"
     ]
    }
   ],
   "source": [
    "walsh_adamar_spectre = list(BooleanFunction(combining_function).walsh_hadamard_transform())\n",
    "print(walsh_adamar_spectre)"
   ]
  },
  {
   "cell_type": "code",
   "execution_count": 12,
   "id": "15f7c04b",
   "metadata": {},
   "outputs": [
    {
     "data": {
      "text/plain": [
       "[4, 10, 14, 20, 26, 30, 33, 37, 49, 53]"
      ]
     },
     "execution_count": 12,
     "metadata": {},
     "output_type": "execute_result"
    }
   ],
   "source": [
    "not_null_walsh = [i for i in range(len(walsh_adamar_spectre)) if walsh_adamar_spectre[i]!=0]\n",
    "not_null_walsh"
   ]
  },
  {
   "cell_type": "code",
   "execution_count": 13,
   "id": "ca25d873",
   "metadata": {},
   "outputs": [
    {
     "name": "stdout",
     "output_type": "stream",
     "text": [
      "g4 = x2 \n",
      "g10 = x1 + x3 \n",
      "g14 = x1 + x2 + x3 \n",
      "g20 = x2 + x4 \n",
      "g26 = x1 + x3 + x4 + 1\n",
      "g30 = x1 + x2 + x3 + x4 + 1\n",
      "g33 = x0 + x5 \n",
      "g37 = x0 + x2 + x5 + 1\n",
      "g49 = x0 + x4 + x5 + 1\n",
      "g53 = x0 + x2 + x4 + x5 \n"
     ]
    }
   ],
   "source": [
    "analogs=[]\n",
    "\n",
    "for i in range(len(not_null_walsh)):\n",
    "    walsh_coeff = walsh_adamar_spectre[not_null_walsh[i]]\n",
    "    binary_i = [(not_null_walsh[i] >> j) & 1 for j in range(6)]\n",
    "    \n",
    "    analog = \"\"\n",
    "    for a in range(6):\n",
    "        if binary_i[a] == 1:\n",
    "            analog += f'x{a}'\n",
    "            analog += ' + '\n",
    "    analog=analog[:-2]\n",
    "    if walsh_coeff < 0:\n",
    "        analog += '+ 1'\n",
    "    print(\"g\" + str(not_null_walsh[i]) + \" = \" + str(analog))\n",
    "        \n",
    "    analogs.append(eval(analog))"
   ]
  },
  {
   "cell_type": "code",
   "execution_count": 14,
   "id": "ae9b2203",
   "metadata": {},
   "outputs": [
    {
     "data": {
      "text/plain": [
       "[x2,\n",
       " x1 + x3,\n",
       " x1 + x2 + x3,\n",
       " x2 + x4,\n",
       " x1 + x3 + x4 + 1,\n",
       " x1 + x2 + x3 + x4 + 1,\n",
       " x0 + x5,\n",
       " x0 + x2 + x5 + 1,\n",
       " x0 + x4 + x5 + 1,\n",
       " x0 + x2 + x4 + x5]"
      ]
     },
     "execution_count": 14,
     "metadata": {},
     "output_type": "execute_result"
    }
   ],
   "source": [
    "analogs"
   ]
  },
  {
   "cell_type": "code",
   "execution_count": 15,
   "id": "06677190",
   "metadata": {},
   "outputs": [],
   "source": [
    "probabilities=[0 for i in range(len(not_null_walsh))]"
   ]
  },
  {
   "cell_type": "code",
   "execution_count": 16,
   "id": "73129f1f",
   "metadata": {},
   "outputs": [],
   "source": [
    "for i in range(len(not_null_walsh)):\n",
    "    for x in range(2**6):\n",
    "        binary_x = [(x >> j) & 1 for j in range(6)]\n",
    "        if combining_function(*binary_x) == analogs[i](*binary_x):\n",
    "            probabilities[i] += 1\n",
    "    probabilities[i]/=64"
   ]
  },
  {
   "cell_type": "code",
   "execution_count": 17,
   "id": "74d15583",
   "metadata": {},
   "outputs": [
    {
     "data": {
      "text/plain": [
       "[3/4, 5/8, 5/8, 3/4, 5/8, 5/8, 5/8, 5/8, 5/8, 5/8]"
      ]
     },
     "execution_count": 17,
     "metadata": {},
     "output_type": "execute_result"
    }
   ],
   "source": [
    "probabilities"
   ]
  },
  {
   "cell_type": "code",
   "execution_count": 18,
   "id": "fda4c6f7",
   "metadata": {},
   "outputs": [
    {
     "data": {
      "text/plain": [
       "[32, 16, 16, 32, -16, -16, 16, -16, -16, 16]"
      ]
     },
     "execution_count": 18,
     "metadata": {},
     "output_type": "execute_result"
    }
   ],
   "source": [
    "walsh=[walsh_adamar_spectre[not_null_walsh[i]] for i in range(len(not_null_walsh))]\n",
    "walsh"
   ]
  },
  {
   "cell_type": "markdown",
   "id": "f2d10be8",
   "metadata": {},
   "source": [
    "Обираємо 3 аналоги з якими будемо працювати та рахуємо для них значення Т"
   ]
  },
  {
   "cell_type": "code",
   "execution_count": 19,
   "id": "07fa1d92",
   "metadata": {},
   "outputs": [
    {
     "name": "stdout",
     "output_type": "stream",
     "text": [
      "T1 = 369\n",
      "T2 = 590\n",
      "T4 = 1034\n"
     ]
    }
   ],
   "source": [
    "g1 = analogs[0]\n",
    "g4 = analogs[3]\n",
    "g6 = analogs[5]\n",
    "\n",
    "\n",
    "epsilon=0.5\n",
    "delta = 0.01\n",
    "m = 10       #deg p = 10 = m\n",
    "T1 = int(8*epsilon**(-2)*math.log(2**(m)/delta))     #k=1\n",
    "T2 = int(8*epsilon**(-2)*math.log(2**(m*2)/delta))   #k=2\n",
    "T4 = int(8*epsilon**(-2)*math.log(2**(m*4)/delta))   #k=4\n",
    "\n",
    "print(\"T1 = \" + str(T1))\n",
    "print(\"T2 = \" + str(T2))\n",
    "print(\"T4 = \" + str(T4))"
   ]
  },
  {
   "cell_type": "code",
   "execution_count": 20,
   "id": "295d228b",
   "metadata": {},
   "outputs": [],
   "source": [
    "%%cython\n",
    "\n",
    "from libc . stdlib cimport malloc , free\n",
    "cdef int LENGTH = 10\n",
    "\n",
    "def gen_sequence (int poly, int init_state, int nbits):\n",
    "    cdef int curr_state = init_state, s, i, j\n",
    "    cdef int *res_array = <int *> malloc(sizeof(int)*nbits)\n",
    "    try:\n",
    "        for i in range(nbits):\n",
    "            res_array[i] = (curr_state >> (LENGTH - 1)) & 1\n",
    "            s = 0\n",
    "            for j in range(LENGTH):\n",
    "                s = s ^ (((curr_state & poly) >> j) & 1)\n",
    "            curr_state = (curr_state << 1) | s\n",
    "        return [x for x in res_array [:nbits]]\n",
    "    finally:\n",
    "        free(res_array)"
   ]
  },
  {
   "cell_type": "code",
   "execution_count": 21,
   "id": "899427b8",
   "metadata": {},
   "outputs": [],
   "source": [
    "def distance(seq1, seq2):\n",
    "    return sum(abs(int(seq1[i]) - int(seq2[i])) for i in range(len(seq1)))"
   ]
  },
  {
   "cell_type": "code",
   "execution_count": 22,
   "id": "8d63cecb",
   "metadata": {},
   "outputs": [],
   "source": [
    "R.<x> = GF(2^11, 'a')[]  \n",
    "polynoms = [x^10 + x^3 + 1, x^10 + x^7 + 1, x^10 + x^4 + x^3 + x^1 + 1, x^10 + x^8 + x^3 + x^2 + 1, \n",
    "            x^10 + x^8 + x^4 + x^3 + 1, x^10 + x^8 + x^5 + x^1 + 1]\n",
    "polynoms_int = [int(''.join ([str(i) for i in p.list()[:-1]]), 2) for p in polynoms]"
   ]
  },
  {
   "cell_type": "markdown",
   "id": "659591c7",
   "metadata": {},
   "source": [
    "g1 = x2"
   ]
  },
  {
   "cell_type": "code",
   "execution_count": 23,
   "id": "0c21e569",
   "metadata": {},
   "outputs": [],
   "source": [
    "c=2**10"
   ]
  },
  {
   "cell_type": "code",
   "execution_count": 24,
   "id": "44b3cb30",
   "metadata": {},
   "outputs": [
    {
     "name": "stdout",
     "output_type": "stream",
     "text": [
      "minimal distance = 98  (0.26558265582655827)\n",
      "possible initial state for p2 = [309]\n",
      "CPU times: user 49.4 ms, sys: 0 ns, total: 49.4 ms\n",
      "Wall time: 48.8 ms\n"
     ]
    }
   ],
   "source": [
    "%%time\n",
    "states = {}\n",
    "for i in range(c):\n",
    "    sequence_x2 = gen_sequence(polynoms_int[2], i, T1)\n",
    "    states[i] = distance(sequence_x2, gamma[:T1])\n",
    "    \n",
    "min_dist = min(states.values())\n",
    "print(\"minimal distance = \" + str(min_dist) + \"  (\" + str(min_dist/T1) + \")\")\n",
    "p2_states=[i for i in states if states[i] == min_dist]\n",
    "print(\"possible initial state for p2 = \" + str(p2_states))"
   ]
  },
  {
   "cell_type": "markdown",
   "id": "1d51ebef",
   "metadata": {},
   "source": [
    "g2 = x2 + x4"
   ]
  },
  {
   "cell_type": "code",
   "execution_count": 25,
   "id": "92ded1c2",
   "metadata": {},
   "outputs": [
    {
     "name": "stdout",
     "output_type": "stream",
     "text": [
      "minimal distance = 143  (0.2423728813559322)\n",
      "possible initial state for p4 = [911]  if initial state for p2 = 309\n",
      "CPU times: user 3.91 s, sys: 0 ns, total: 3.91 s\n",
      "Wall time: 3.91 s\n"
     ]
    }
   ],
   "source": [
    "%%time\n",
    "states = {}\n",
    "sequence_x2 = gen_sequence(polynoms_int[2], 309, T2)\n",
    "for i in range(c):\n",
    "    sequence_x4 = gen_sequence(polynoms_int[4], i, T2)\n",
    "    seq = [g4(0, 0, sequence_x2[j], 0, sequence_x4[j], 0) for j in range(T2)]\n",
    "    states[i] = distance(seq, gamma[:T2])\n",
    "    \n",
    "min_dist = min(states.values())\n",
    "print(\"minimal distance = \" + str(min_dist) + \"  (\" + str(min_dist/T2) + \")\")\n",
    "states=[i for i in states if states[i] == min_dist]\n",
    "print(\"possible initial state for p4 = \" + str(states) + \"  if initial state for p2 = \" + str(309))"
   ]
  },
  {
   "cell_type": "markdown",
   "id": "11fec070",
   "metadata": {},
   "source": [
    "g6 = x1 + x2 + x3 + x4 + 1"
   ]
  },
  {
   "cell_type": "code",
   "execution_count": 26,
   "id": "ff657b7a",
   "metadata": {},
   "outputs": [],
   "source": [
    "states = {}\n",
    "sequence_x2 = gen_sequence(polynoms_int[2], 309, T4)\n",
    "sequence_x4 = gen_sequence(polynoms_int[4], 911, T4)\n",
    "for i in range(c):\n",
    "    sequence_x1 = gen_sequence(polynoms_int[1], i, T4)\n",
    "    for j in range(c):\n",
    "        sequence_x3 = gen_sequence(polynoms_int[3], j, T4)\n",
    "        seq = [g6(0, sequence_x1[k], sequence_x2[k], sequence_x3[k], sequence_x4[k], 0) for k in range(T4)]\n",
    "        states[(i,j)] = distance(seq, gamma[:T4])"
   ]
  },
  {
   "cell_type": "code",
   "execution_count": 27,
   "id": "1673a617",
   "metadata": {},
   "outputs": [
    {
     "name": "stdout",
     "output_type": "stream",
     "text": [
      "minimal distance = 372  (0.3597678916827853)\n",
      "possible initial state for p1, p3 = [(800, 470)]  if initial state for p2, p4 = 309, 911\n"
     ]
    }
   ],
   "source": [
    "min_dist = min(states.values())\n",
    "print(\"minimal distance = \" + str(min_dist) + \"  (\" + str(min_dist/T4) + \")\")\n",
    "states=[(i, j) for (i, j) in states if states[(i, j)] == min_dist]\n",
    "print(\"possible initial state for p1, p3 = \" + str(states)+ \"  if initial state for p2, p4 = \" + str(309) + \", \" + str(911))"
   ]
  },
  {
   "cell_type": "code",
   "execution_count": 28,
   "id": "4fb4ff11",
   "metadata": {},
   "outputs": [
    {
     "name": "stdout",
     "output_type": "stream",
     "text": [
      "possible initial state for p0, p5 = 182, 665\n"
     ]
    }
   ],
   "source": [
    "l=500\n",
    "sequence_x1 = gen_sequence(polynoms_int[1], 800, l)\n",
    "sequence_x2 = gen_sequence(polynoms_int[2], 309, l)\n",
    "sequence_x4 = gen_sequence(polynoms_int[4], 911, l)\n",
    "sequence_x3 = gen_sequence(polynoms_int[3], 470, l)\n",
    "flag = False\n",
    "for i in range(c):\n",
    "    if flag:\n",
    "        break\n",
    "    sequence_x0 = gen_sequence(polynoms_int[0], i, l)\n",
    "    for j in range(c):\n",
    "        sequence_x5 = gen_sequence(polynoms_int[5], j, l)\n",
    "        seq = [combining_function(sequence_x0[k], sequence_x1[k], sequence_x2[k], sequence_x3[k], sequence_x4[k], sequence_x5[k]) for k in range(l)]\n",
    "        if seq == gamma[:l]:\n",
    "            print(\"possible initial state for p0, p5 = \" + str(i) + \", \" + str(j))\n",
    "            flag=True\n",
    "            break"
   ]
  },
  {
   "cell_type": "code",
   "execution_count": 29,
   "id": "c5d0ae15",
   "metadata": {},
   "outputs": [
    {
     "name": "stdout",
     "output_type": "stream",
     "text": [
      "Success!           x0, x1, x2, x3, x4, x5 = [182, 800, 309, 470, 911, 665]\n"
     ]
    }
   ],
   "source": [
    "l=1000\n",
    "sequence_x0 = gen_sequence(polynoms_int[0], 182, l)\n",
    "sequence_x1 = gen_sequence(polynoms_int[1], 800, l)\n",
    "sequence_x2 = gen_sequence(polynoms_int[2], 309, l)\n",
    "sequence_x3 = gen_sequence(polynoms_int[3], 470, l)\n",
    "sequence_x4 = gen_sequence(polynoms_int[4], 911, l)\n",
    "sequence_x5 = gen_sequence(polynoms_int[5], 665, l)\n",
    "seq = [combining_function(sequence_x0[k], sequence_x1[k], sequence_x2[k], sequence_x3[k], sequence_x4[k], sequence_x5[k]) for k in range(l)]\n",
    "if seq == gamma[:l]:\n",
    "    print(\"Success!           x0, x1, x2, x3, x4, x5 = \" + str([182, 800, 309, 470, 911, 665]))"
   ]
  },
  {
   "cell_type": "code",
   "execution_count": null,
   "id": "8e88214a",
   "metadata": {},
   "outputs": [],
   "source": []
  }
 ],
 "metadata": {
  "kernelspec": {
   "display_name": "SageMath 9.5",
   "language": "sage",
   "name": "sagemath"
  },
  "language_info": {
   "codemirror_mode": {
    "name": "ipython",
    "version": 3
   },
   "file_extension": ".py",
   "mimetype": "text/x-python",
   "name": "python",
   "nbconvert_exporter": "python",
   "pygments_lexer": "ipython3",
   "version": "3.10.6"
  }
 },
 "nbformat": 4,
 "nbformat_minor": 5
}
